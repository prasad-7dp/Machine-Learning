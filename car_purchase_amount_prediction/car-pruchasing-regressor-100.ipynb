{
 "cells": [
  {
   "cell_type": "code",
   "execution_count": 62,
   "id": "minus-doctor",
   "metadata": {
    "id": "JpvKTAeo27Fq",
    "papermill": {
     "duration": 0.969569,
     "end_time": "2021-05-03T03:03:26.336449",
     "exception": false,
     "start_time": "2021-05-03T03:03:25.366880",
     "status": "completed"
    },
    "tags": []
   },
   "outputs": [],
   "source": [
    "import numpy as np\n",
    "import pandas as pd\n",
    "import matplotlib.pyplot as plt\n",
    "import seaborn as sns"
   ]
  },
  {
   "cell_type": "code",
   "execution_count": 63,
   "id": "every-diploma",
   "metadata": {
    "id": "rNNBEA3d3DwF",
    "outputId": "ef00e63d-6515-48e4-8fd3-0c9bccaf44c6",
    "papermill": {
     "duration": 0.080551,
     "end_time": "2021-05-03T03:03:26.441643",
     "exception": false,
     "start_time": "2021-05-03T03:03:26.361092",
     "status": "completed"
    },
    "tags": []
   },
   "outputs": [
    {
     "data": {
      "text/html": [
       "<div>\n",
       "<style scoped>\n",
       "    .dataframe tbody tr th:only-of-type {\n",
       "        vertical-align: middle;\n",
       "    }\n",
       "\n",
       "    .dataframe tbody tr th {\n",
       "        vertical-align: top;\n",
       "    }\n",
       "\n",
       "    .dataframe thead th {\n",
       "        text-align: right;\n",
       "    }\n",
       "</style>\n",
       "<table border=\"1\" class=\"dataframe\">\n",
       "  <thead>\n",
       "    <tr style=\"text-align: right;\">\n",
       "      <th></th>\n",
       "      <th>Customer Name</th>\n",
       "      <th>Customer e-mail</th>\n",
       "      <th>Country</th>\n",
       "      <th>Gender</th>\n",
       "      <th>Age</th>\n",
       "      <th>Annual Salary</th>\n",
       "      <th>Credit Card Debt</th>\n",
       "      <th>Net Worth</th>\n",
       "      <th>Car Purchase Amount</th>\n",
       "    </tr>\n",
       "  </thead>\n",
       "  <tbody>\n",
       "    <tr>\n",
       "      <th>0</th>\n",
       "      <td>Martina Avila</td>\n",
       "      <td>cubilia.Curae.Phasellus@quisaccumsanconvallis.edu</td>\n",
       "      <td>USA</td>\n",
       "      <td>0</td>\n",
       "      <td>42</td>\n",
       "      <td>62812.09301</td>\n",
       "      <td>11609.380910</td>\n",
       "      <td>238961.2505</td>\n",
       "      <td>35321.45877</td>\n",
       "    </tr>\n",
       "    <tr>\n",
       "      <th>1</th>\n",
       "      <td>Harlan Barnes</td>\n",
       "      <td>eu.dolor@diam.co.uk</td>\n",
       "      <td>USA</td>\n",
       "      <td>0</td>\n",
       "      <td>41</td>\n",
       "      <td>66646.89292</td>\n",
       "      <td>9572.957136</td>\n",
       "      <td>530973.9078</td>\n",
       "      <td>45115.52566</td>\n",
       "    </tr>\n",
       "    <tr>\n",
       "      <th>2</th>\n",
       "      <td>Naomi Rodriquez</td>\n",
       "      <td>vulputate.mauris.sagittis@ametconsectetueradip...</td>\n",
       "      <td>USA</td>\n",
       "      <td>1</td>\n",
       "      <td>43</td>\n",
       "      <td>53798.55112</td>\n",
       "      <td>11160.355060</td>\n",
       "      <td>638467.1773</td>\n",
       "      <td>42925.70921</td>\n",
       "    </tr>\n",
       "    <tr>\n",
       "      <th>3</th>\n",
       "      <td>Jade Cunningham</td>\n",
       "      <td>malesuada@dignissim.com</td>\n",
       "      <td>USA</td>\n",
       "      <td>1</td>\n",
       "      <td>58</td>\n",
       "      <td>79370.03798</td>\n",
       "      <td>14426.164850</td>\n",
       "      <td>548599.0524</td>\n",
       "      <td>67422.36313</td>\n",
       "    </tr>\n",
       "    <tr>\n",
       "      <th>4</th>\n",
       "      <td>Cedric Leach</td>\n",
       "      <td>felis.ullamcorper.viverra@egetmollislectus.net</td>\n",
       "      <td>USA</td>\n",
       "      <td>1</td>\n",
       "      <td>57</td>\n",
       "      <td>59729.15130</td>\n",
       "      <td>5358.712177</td>\n",
       "      <td>560304.0671</td>\n",
       "      <td>55915.46248</td>\n",
       "    </tr>\n",
       "  </tbody>\n",
       "</table>\n",
       "</div>"
      ],
      "text/plain": [
       "     Customer Name                                    Customer e-mail Country  \\\n",
       "0    Martina Avila  cubilia.Curae.Phasellus@quisaccumsanconvallis.edu     USA   \n",
       "1    Harlan Barnes                                eu.dolor@diam.co.uk     USA   \n",
       "2  Naomi Rodriquez  vulputate.mauris.sagittis@ametconsectetueradip...     USA   \n",
       "3  Jade Cunningham                            malesuada@dignissim.com     USA   \n",
       "4     Cedric Leach     felis.ullamcorper.viverra@egetmollislectus.net     USA   \n",
       "\n",
       "   Gender  Age  Annual Salary  Credit Card Debt    Net Worth  \\\n",
       "0       0   42    62812.09301      11609.380910  238961.2505   \n",
       "1       0   41    66646.89292       9572.957136  530973.9078   \n",
       "2       1   43    53798.55112      11160.355060  638467.1773   \n",
       "3       1   58    79370.03798      14426.164850  548599.0524   \n",
       "4       1   57    59729.15130       5358.712177  560304.0671   \n",
       "\n",
       "   Car Purchase Amount  \n",
       "0          35321.45877  \n",
       "1          45115.52566  \n",
       "2          42925.70921  \n",
       "3          67422.36313  \n",
       "4          55915.46248  "
      ]
     },
     "execution_count": 63,
     "metadata": {},
     "output_type": "execute_result"
    }
   ],
   "source": [
    "data = pd.read_csv(r'C:\\Users\\admin\\Desktop\\tefoLOGIC\\Data\\Car_Purchasing_Data.csv')\n",
    "data.head()"
   ]
  },
  {
   "cell_type": "code",
   "execution_count": 64,
   "id": "eight-legend",
   "metadata": {
    "id": "Om_I5vED3sLu",
    "outputId": "e8c18de9-f7c3-4f82-be2d-bc446a840b4f",
    "papermill": {
     "duration": 0.054109,
     "end_time": "2021-05-03T03:03:26.515105",
     "exception": false,
     "start_time": "2021-05-03T03:03:26.460996",
     "status": "completed"
    },
    "tags": []
   },
   "outputs": [
    {
     "data": {
      "text/html": [
       "<div>\n",
       "<style scoped>\n",
       "    .dataframe tbody tr th:only-of-type {\n",
       "        vertical-align: middle;\n",
       "    }\n",
       "\n",
       "    .dataframe tbody tr th {\n",
       "        vertical-align: top;\n",
       "    }\n",
       "\n",
       "    .dataframe thead th {\n",
       "        text-align: right;\n",
       "    }\n",
       "</style>\n",
       "<table border=\"1\" class=\"dataframe\">\n",
       "  <thead>\n",
       "    <tr style=\"text-align: right;\">\n",
       "      <th></th>\n",
       "      <th>Gender</th>\n",
       "      <th>Age</th>\n",
       "      <th>Annual Salary</th>\n",
       "      <th>Credit Card Debt</th>\n",
       "      <th>Net Worth</th>\n",
       "      <th>Car Purchase Amount</th>\n",
       "    </tr>\n",
       "  </thead>\n",
       "  <tbody>\n",
       "    <tr>\n",
       "      <th>count</th>\n",
       "      <td>500.000000</td>\n",
       "      <td>500.000000</td>\n",
       "      <td>500.000000</td>\n",
       "      <td>500.000000</td>\n",
       "      <td>500.000000</td>\n",
       "      <td>500.000000</td>\n",
       "    </tr>\n",
       "    <tr>\n",
       "      <th>mean</th>\n",
       "      <td>0.506000</td>\n",
       "      <td>46.224000</td>\n",
       "      <td>62127.239608</td>\n",
       "      <td>9607.645049</td>\n",
       "      <td>431475.713625</td>\n",
       "      <td>44209.799218</td>\n",
       "    </tr>\n",
       "    <tr>\n",
       "      <th>std</th>\n",
       "      <td>0.500465</td>\n",
       "      <td>7.990339</td>\n",
       "      <td>11703.378228</td>\n",
       "      <td>3489.187973</td>\n",
       "      <td>173536.756340</td>\n",
       "      <td>10773.178744</td>\n",
       "    </tr>\n",
       "    <tr>\n",
       "      <th>min</th>\n",
       "      <td>0.000000</td>\n",
       "      <td>20.000000</td>\n",
       "      <td>20000.000000</td>\n",
       "      <td>100.000000</td>\n",
       "      <td>20000.000000</td>\n",
       "      <td>9000.000000</td>\n",
       "    </tr>\n",
       "    <tr>\n",
       "      <th>25%</th>\n",
       "      <td>0.000000</td>\n",
       "      <td>41.000000</td>\n",
       "      <td>54391.977195</td>\n",
       "      <td>7397.515792</td>\n",
       "      <td>299824.195900</td>\n",
       "      <td>37629.896040</td>\n",
       "    </tr>\n",
       "    <tr>\n",
       "      <th>50%</th>\n",
       "      <td>1.000000</td>\n",
       "      <td>46.000000</td>\n",
       "      <td>62915.497035</td>\n",
       "      <td>9655.035568</td>\n",
       "      <td>426750.120650</td>\n",
       "      <td>43997.783390</td>\n",
       "    </tr>\n",
       "    <tr>\n",
       "      <th>75%</th>\n",
       "      <td>1.000000</td>\n",
       "      <td>52.000000</td>\n",
       "      <td>70117.862005</td>\n",
       "      <td>11798.867487</td>\n",
       "      <td>557324.478725</td>\n",
       "      <td>51254.709517</td>\n",
       "    </tr>\n",
       "    <tr>\n",
       "      <th>max</th>\n",
       "      <td>1.000000</td>\n",
       "      <td>70.000000</td>\n",
       "      <td>100000.000000</td>\n",
       "      <td>20000.000000</td>\n",
       "      <td>1000000.000000</td>\n",
       "      <td>80000.000000</td>\n",
       "    </tr>\n",
       "  </tbody>\n",
       "</table>\n",
       "</div>"
      ],
      "text/plain": [
       "           Gender         Age  Annual Salary  Credit Card Debt  \\\n",
       "count  500.000000  500.000000     500.000000        500.000000   \n",
       "mean     0.506000   46.224000   62127.239608       9607.645049   \n",
       "std      0.500465    7.990339   11703.378228       3489.187973   \n",
       "min      0.000000   20.000000   20000.000000        100.000000   \n",
       "25%      0.000000   41.000000   54391.977195       7397.515792   \n",
       "50%      1.000000   46.000000   62915.497035       9655.035568   \n",
       "75%      1.000000   52.000000   70117.862005      11798.867487   \n",
       "max      1.000000   70.000000  100000.000000      20000.000000   \n",
       "\n",
       "            Net Worth  Car Purchase Amount  \n",
       "count      500.000000           500.000000  \n",
       "mean    431475.713625         44209.799218  \n",
       "std     173536.756340         10773.178744  \n",
       "min      20000.000000          9000.000000  \n",
       "25%     299824.195900         37629.896040  \n",
       "50%     426750.120650         43997.783390  \n",
       "75%     557324.478725         51254.709517  \n",
       "max    1000000.000000         80000.000000  "
      ]
     },
     "execution_count": 64,
     "metadata": {},
     "output_type": "execute_result"
    }
   ],
   "source": [
    "data.describe()"
   ]
  },
  {
   "cell_type": "code",
   "execution_count": 65,
   "id": "65cacf08-1e81-4c31-be5f-6f9711efeba2",
   "metadata": {},
   "outputs": [
    {
     "data": {
      "text/plain": [
       "['Customer Name',\n",
       " 'Customer e-mail',\n",
       " 'Country',\n",
       " 'Gender',\n",
       " 'Age',\n",
       " 'Annual Salary',\n",
       " 'Credit Card Debt',\n",
       " 'Net Worth',\n",
       " 'Car Purchase Amount']"
      ]
     },
     "execution_count": 65,
     "metadata": {},
     "output_type": "execute_result"
    }
   ],
   "source": [
    "list(data)"
   ]
  },
  {
   "cell_type": "code",
   "execution_count": 66,
   "id": "running-photographer",
   "metadata": {
    "id": "MFueYG0d3vOg",
    "outputId": "1369031f-39e4-4d09-ad50-573bd05142ee",
    "papermill": {
     "duration": 0.040376,
     "end_time": "2021-05-03T03:03:26.575367",
     "exception": false,
     "start_time": "2021-05-03T03:03:26.534991",
     "status": "completed"
    },
    "tags": []
   },
   "outputs": [
    {
     "name": "stdout",
     "output_type": "stream",
     "text": [
      "<class 'pandas.core.frame.DataFrame'>\n",
      "RangeIndex: 500 entries, 0 to 499\n",
      "Data columns (total 9 columns):\n",
      " #   Column               Non-Null Count  Dtype  \n",
      "---  ------               --------------  -----  \n",
      " 0   Customer Name        500 non-null    object \n",
      " 1   Customer e-mail      500 non-null    object \n",
      " 2   Country              500 non-null    object \n",
      " 3   Gender               500 non-null    int64  \n",
      " 4   Age                  500 non-null    int64  \n",
      " 5   Annual Salary        500 non-null    float64\n",
      " 6   Credit Card Debt     500 non-null    float64\n",
      " 7   Net Worth            500 non-null    float64\n",
      " 8   Car Purchase Amount  500 non-null    float64\n",
      "dtypes: float64(4), int64(2), object(3)\n",
      "memory usage: 35.3+ KB\n"
     ]
    }
   ],
   "source": [
    "data.info()"
   ]
  },
  {
   "cell_type": "code",
   "execution_count": 67,
   "id": "wired-method",
   "metadata": {
    "id": "-YtHReKS31HG",
    "outputId": "d722b5e2-dcb0-4505-9737-d9f54a4b7d02",
    "papermill": {
     "duration": 0.069087,
     "end_time": "2021-05-03T03:03:26.664736",
     "exception": false,
     "start_time": "2021-05-03T03:03:26.595649",
     "status": "completed"
    },
    "tags": []
   },
   "outputs": [
    {
     "data": {
      "text/html": [
       "<div>\n",
       "<style scoped>\n",
       "    .dataframe tbody tr th:only-of-type {\n",
       "        vertical-align: middle;\n",
       "    }\n",
       "\n",
       "    .dataframe tbody tr th {\n",
       "        vertical-align: top;\n",
       "    }\n",
       "\n",
       "    .dataframe thead th {\n",
       "        text-align: right;\n",
       "    }\n",
       "</style>\n",
       "<table border=\"1\" class=\"dataframe\">\n",
       "  <thead>\n",
       "    <tr style=\"text-align: right;\">\n",
       "      <th></th>\n",
       "      <th>Gender</th>\n",
       "      <th>Age</th>\n",
       "      <th>Annual Salary</th>\n",
       "      <th>Credit Card Debt</th>\n",
       "      <th>Net Worth</th>\n",
       "      <th>Car Purchase Amount</th>\n",
       "    </tr>\n",
       "  </thead>\n",
       "  <tbody>\n",
       "    <tr>\n",
       "      <th>count</th>\n",
       "      <td>247.0</td>\n",
       "      <td>247.000000</td>\n",
       "      <td>247.000000</td>\n",
       "      <td>247.000000</td>\n",
       "      <td>247.000000</td>\n",
       "      <td>247.000000</td>\n",
       "    </tr>\n",
       "    <tr>\n",
       "      <th>mean</th>\n",
       "      <td>0.0</td>\n",
       "      <td>46.761134</td>\n",
       "      <td>62559.128313</td>\n",
       "      <td>9522.298721</td>\n",
       "      <td>432948.721130</td>\n",
       "      <td>44933.131928</td>\n",
       "    </tr>\n",
       "    <tr>\n",
       "      <th>std</th>\n",
       "      <td>0.0</td>\n",
       "      <td>7.905156</td>\n",
       "      <td>11619.855534</td>\n",
       "      <td>3526.913927</td>\n",
       "      <td>181655.275472</td>\n",
       "      <td>10325.991917</td>\n",
       "    </tr>\n",
       "    <tr>\n",
       "      <th>min</th>\n",
       "      <td>0.0</td>\n",
       "      <td>25.000000</td>\n",
       "      <td>32697.981610</td>\n",
       "      <td>594.804949</td>\n",
       "      <td>20000.000000</td>\n",
       "      <td>9000.000000</td>\n",
       "    </tr>\n",
       "    <tr>\n",
       "      <th>25%</th>\n",
       "      <td>0.0</td>\n",
       "      <td>42.000000</td>\n",
       "      <td>54679.796590</td>\n",
       "      <td>7183.929872</td>\n",
       "      <td>290660.132350</td>\n",
       "      <td>38788.134815</td>\n",
       "    </tr>\n",
       "    <tr>\n",
       "      <th>50%</th>\n",
       "      <td>0.0</td>\n",
       "      <td>47.000000</td>\n",
       "      <td>63561.045250</td>\n",
       "      <td>9725.549901</td>\n",
       "      <td>454791.725100</td>\n",
       "      <td>44463.305020</td>\n",
       "    </tr>\n",
       "    <tr>\n",
       "      <th>75%</th>\n",
       "      <td>0.0</td>\n",
       "      <td>52.000000</td>\n",
       "      <td>70208.829130</td>\n",
       "      <td>11653.338235</td>\n",
       "      <td>564297.998850</td>\n",
       "      <td>51508.847700</td>\n",
       "    </tr>\n",
       "    <tr>\n",
       "      <th>max</th>\n",
       "      <td>0.0</td>\n",
       "      <td>70.000000</td>\n",
       "      <td>92471.176120</td>\n",
       "      <td>17870.637650</td>\n",
       "      <td>891439.876100</td>\n",
       "      <td>70878.296640</td>\n",
       "    </tr>\n",
       "  </tbody>\n",
       "</table>\n",
       "</div>"
      ],
      "text/plain": [
       "       Gender         Age  Annual Salary  Credit Card Debt      Net Worth  \\\n",
       "count   247.0  247.000000     247.000000        247.000000     247.000000   \n",
       "mean      0.0   46.761134   62559.128313       9522.298721  432948.721130   \n",
       "std       0.0    7.905156   11619.855534       3526.913927  181655.275472   \n",
       "min       0.0   25.000000   32697.981610        594.804949   20000.000000   \n",
       "25%       0.0   42.000000   54679.796590       7183.929872  290660.132350   \n",
       "50%       0.0   47.000000   63561.045250       9725.549901  454791.725100   \n",
       "75%       0.0   52.000000   70208.829130      11653.338235  564297.998850   \n",
       "max       0.0   70.000000   92471.176120      17870.637650  891439.876100   \n",
       "\n",
       "       Car Purchase Amount  \n",
       "count           247.000000  \n",
       "mean          44933.131928  \n",
       "std           10325.991917  \n",
       "min            9000.000000  \n",
       "25%           38788.134815  \n",
       "50%           44463.305020  \n",
       "75%           51508.847700  \n",
       "max           70878.296640  "
      ]
     },
     "execution_count": 67,
     "metadata": {},
     "output_type": "execute_result"
    }
   ],
   "source": [
    "females = data.loc[data['Gender'] == 0]\n",
    "females.describe()"
   ]
  },
  {
   "cell_type": "code",
   "execution_count": 68,
   "id": "perceived-truth",
   "metadata": {
    "id": "HbXPfn4o5SXc",
    "papermill": {
     "duration": 0.028828,
     "end_time": "2021-05-03T03:03:26.714518",
     "exception": false,
     "start_time": "2021-05-03T03:03:26.685690",
     "status": "completed"
    },
    "tags": []
   },
   "outputs": [],
   "source": [
    "plt.style.use('ggplot')"
   ]
  },
  {
   "cell_type": "code",
   "execution_count": 69,
   "id": "modern-healthcare",
   "metadata": {
    "id": "4SG4SG405CX5",
    "outputId": "1f099c52-af02-47f4-e057-71f310975228",
    "papermill": {
     "duration": 0.426676,
     "end_time": "2021-05-03T03:03:27.162224",
     "exception": false,
     "start_time": "2021-05-03T03:03:26.735548",
     "status": "completed"
    },
    "tags": []
   },
   "outputs": [
    {
     "data": {
      "text/plain": [
       "<Axes: xlabel='Annual Salary', ylabel='Count'>"
      ]
     },
     "execution_count": 69,
     "metadata": {},
     "output_type": "execute_result"
    },
    {
     "data": {
      "image/png": "[encoded data removed]",
      "text/plain": [
       "<Figure size 800x800 with 2 Axes>"
      ]
     },
     "metadata": {},
     "output_type": "display_data"
    }
   ],
   "source": [
    "plt.figure(figsize=(8,8))\n",
    "plt.subplot(211)\n",
    "sns.histplot(data=females,x='Credit Card Debt')\n",
    "\n",
    "plt.subplot(212)\n",
    "sns.histplot(data=females,x='Annual Salary')"
   ]
  },
  {
   "cell_type": "code",
   "execution_count": 70,
   "id": "postal-letter",
   "metadata": {
    "id": "PUcClVay6O6w",
    "outputId": "714d7af2-264b-4ec2-f1b9-4da0ffb6890f",
    "papermill": {
     "duration": 0.23183,
     "end_time": "2021-05-03T03:03:27.416654",
     "exception": false,
     "start_time": "2021-05-03T03:03:27.184824",
     "status": "completed"
    },
    "tags": []
   },
   "outputs": [
    {
     "data": {
      "text/plain": [
       "<Axes: xlabel='Car Purchase Amount', ylabel='Count'>"
      ]
     },
     "execution_count": 70,
     "metadata": {},
     "output_type": "execute_result"
    },
    {
     "data": {
      "image/png": "[encoded data removed]",
      "text/plain": [
       "<Figure size 640x480 with 1 Axes>"
      ]
     },
     "metadata": {},
     "output_type": "display_data"
    }
   ],
   "source": [
    "sns.histplot(data=females,x='Car Purchase Amount')"
   ]
  },
  {
   "cell_type": "code",
   "execution_count": 71,
   "id": "independent-lesbian",
   "metadata": {
    "id": "UtkxtQCx6dNO",
    "outputId": "ae98d9e3-ebef-4949-a1e9-832c4225525b",
    "papermill": {
     "duration": 0.222977,
     "end_time": "2021-05-03T03:03:27.664121",
     "exception": false,
     "start_time": "2021-05-03T03:03:27.441144",
     "status": "completed"
    },
    "tags": []
   },
   "outputs": [
    {
     "data": {
      "text/plain": [
       "<Axes: xlabel='Car Purchase Amount', ylabel='Count'>"
      ]
     },
     "execution_count": 71,
     "metadata": {},
     "output_type": "execute_result"
    },
    {
     "data": {
      "image/png": "[encoded data removed]",
      "text/plain": [
       "<Figure size 640x480 with 1 Axes>"
      ]
     },
     "metadata": {},
     "output_type": "display_data"
    }
   ],
   "source": [
    "query = females.loc[females['Credit Card Debt'] >= 10000]\n",
    "sns.histplot(data=query,x='Car Purchase Amount')"
   ]
  },
  {
   "cell_type": "code",
   "execution_count": 72,
   "id": "descending-vienna",
   "metadata": {
    "id": "wFGE-gZ0-fZr",
    "outputId": "cb6972a6-eb06-455f-f559-95979800892f",
    "papermill": {
     "duration": 0.223499,
     "end_time": "2021-05-03T03:03:27.913302",
     "exception": false,
     "start_time": "2021-05-03T03:03:27.689803",
     "status": "completed"
    },
    "tags": []
   },
   "outputs": [
    {
     "data": {
      "text/plain": [
       "<Axes: xlabel='Car Purchase Amount', ylabel='Count'>"
      ]
     },
     "execution_count": 72,
     "metadata": {},
     "output_type": "execute_result"
    },
    {
     "data": {
      "image/png": "[encoded data removed]",
      "text/plain": [
       "<Figure size 640x480 with 1 Axes>"
      ]
     },
     "metadata": {},
     "output_type": "display_data"
    }
   ],
   "source": [
    "query = females.loc[females['Credit Card Debt'] < 10000]\n",
    "sns.histplot(data=query,x='Car Purchase Amount')"
   ]
  },
  {
   "cell_type": "code",
   "execution_count": 73,
   "id": "entertaining-mathematics",
   "metadata": {
    "id": "qph4DEE--9Rx",
    "outputId": "97c324e8-eb6d-4dc3-8756-0f1d53ef4163",
    "papermill": {
     "duration": 0.062731,
     "end_time": "2021-05-03T03:03:28.002455",
     "exception": false,
     "start_time": "2021-05-03T03:03:27.939724",
     "status": "completed"
    },
    "tags": []
   },
   "outputs": [
    {
     "data": {
      "text/html": [
       "<div>\n",
       "<style scoped>\n",
       "    .dataframe tbody tr th:only-of-type {\n",
       "        vertical-align: middle;\n",
       "    }\n",
       "\n",
       "    .dataframe tbody tr th {\n",
       "        vertical-align: top;\n",
       "    }\n",
       "\n",
       "    .dataframe thead th {\n",
       "        text-align: right;\n",
       "    }\n",
       "</style>\n",
       "<table border=\"1\" class=\"dataframe\">\n",
       "  <thead>\n",
       "    <tr style=\"text-align: right;\">\n",
       "      <th></th>\n",
       "      <th>Gender</th>\n",
       "      <th>Age</th>\n",
       "      <th>Annual Salary</th>\n",
       "      <th>Credit Card Debt</th>\n",
       "      <th>Net Worth</th>\n",
       "      <th>Car Purchase Amount</th>\n",
       "    </tr>\n",
       "  </thead>\n",
       "  <tbody>\n",
       "    <tr>\n",
       "      <th>count</th>\n",
       "      <td>253.0</td>\n",
       "      <td>253.000000</td>\n",
       "      <td>253.000000</td>\n",
       "      <td>253.000000</td>\n",
       "      <td>253.000000</td>\n",
       "      <td>253.000000</td>\n",
       "    </tr>\n",
       "    <tr>\n",
       "      <th>mean</th>\n",
       "      <td>1.0</td>\n",
       "      <td>45.699605</td>\n",
       "      <td>61705.593322</td>\n",
       "      <td>9690.967353</td>\n",
       "      <td>430037.639104</td>\n",
       "      <td>43503.620644</td>\n",
       "    </tr>\n",
       "    <tr>\n",
       "      <th>std</th>\n",
       "      <td>0.0</td>\n",
       "      <td>8.053681</td>\n",
       "      <td>11792.069787</td>\n",
       "      <td>3456.912974</td>\n",
       "      <td>165575.757455</td>\n",
       "      <td>11167.769115</td>\n",
       "    </tr>\n",
       "    <tr>\n",
       "      <th>min</th>\n",
       "      <td>1.0</td>\n",
       "      <td>20.000000</td>\n",
       "      <td>20000.000000</td>\n",
       "      <td>100.000000</td>\n",
       "      <td>69821.637600</td>\n",
       "      <td>10092.225090</td>\n",
       "    </tr>\n",
       "    <tr>\n",
       "      <th>25%</th>\n",
       "      <td>1.0</td>\n",
       "      <td>40.000000</td>\n",
       "      <td>54279.395970</td>\n",
       "      <td>7515.152476</td>\n",
       "      <td>316128.400200</td>\n",
       "      <td>36645.560900</td>\n",
       "    </tr>\n",
       "    <tr>\n",
       "      <th>50%</th>\n",
       "      <td>1.0</td>\n",
       "      <td>45.000000</td>\n",
       "      <td>61922.897100</td>\n",
       "      <td>9611.317626</td>\n",
       "      <td>410655.994700</td>\n",
       "      <td>42909.271290</td>\n",
       "    </tr>\n",
       "    <tr>\n",
       "      <th>75%</th>\n",
       "      <td>1.0</td>\n",
       "      <td>51.000000</td>\n",
       "      <td>69946.939240</td>\n",
       "      <td>11878.037790</td>\n",
       "      <td>552267.636100</td>\n",
       "      <td>51046.422260</td>\n",
       "    </tr>\n",
       "    <tr>\n",
       "      <th>max</th>\n",
       "      <td>1.0</td>\n",
       "      <td>70.000000</td>\n",
       "      <td>100000.000000</td>\n",
       "      <td>20000.000000</td>\n",
       "      <td>1000000.000000</td>\n",
       "      <td>80000.000000</td>\n",
       "    </tr>\n",
       "  </tbody>\n",
       "</table>\n",
       "</div>"
      ],
      "text/plain": [
       "       Gender         Age  Annual Salary  Credit Card Debt       Net Worth  \\\n",
       "count   253.0  253.000000     253.000000        253.000000      253.000000   \n",
       "mean      1.0   45.699605   61705.593322       9690.967353   430037.639104   \n",
       "std       0.0    8.053681   11792.069787       3456.912974   165575.757455   \n",
       "min       1.0   20.000000   20000.000000        100.000000    69821.637600   \n",
       "25%       1.0   40.000000   54279.395970       7515.152476   316128.400200   \n",
       "50%       1.0   45.000000   61922.897100       9611.317626   410655.994700   \n",
       "75%       1.0   51.000000   69946.939240      11878.037790   552267.636100   \n",
       "max       1.0   70.000000  100000.000000      20000.000000  1000000.000000   \n",
       "\n",
       "       Car Purchase Amount  \n",
       "count           253.000000  \n",
       "mean          43503.620644  \n",
       "std           11167.769115  \n",
       "min           10092.225090  \n",
       "25%           36645.560900  \n",
       "50%           42909.271290  \n",
       "75%           51046.422260  \n",
       "max           80000.000000  "
      ]
     },
     "execution_count": 73,
     "metadata": {},
     "output_type": "execute_result"
    }
   ],
   "source": [
    "males = data.loc[data['Gender'] == 1]\n",
    "males.describe()"
   ]
  },
  {
   "cell_type": "code",
   "execution_count": 74,
   "id": "dominican-fourth",
   "metadata": {
    "id": "tPIS7Z2y_Bqy",
    "outputId": "146a3cbb-2bd0-4c31-bc80-eef500501b44",
    "papermill": {
     "duration": 0.469777,
     "end_time": "2021-05-03T03:03:28.499194",
     "exception": false,
     "start_time": "2021-05-03T03:03:28.029417",
     "status": "completed"
    },
    "tags": []
   },
   "outputs": [
    {
     "data": {
      "text/plain": [
       "<Axes: xlabel='Annual Salary', ylabel='Count'>"
      ]
     },
     "execution_count": 74,
     "metadata": {},
     "output_type": "execute_result"
    },
    {
     "data": {
      "image/png": "[encoded data removed]",
      "text/plain": [
       "<Figure size 800x800 with 2 Axes>"
      ]
     },
     "metadata": {},
     "output_type": "display_data"
    }
   ],
   "source": [
    "plt.figure(figsize=(8,8))\n",
    "plt.subplot(211)\n",
    "sns.histplot(data=males,x='Credit Card Debt')\n",
    "\n",
    "plt.subplot(212)\n",
    "sns.histplot(data=males,x='Annual Salary')"
   ]
  },
  {
   "cell_type": "code",
   "execution_count": 75,
   "id": "floppy-collective",
   "metadata": {
    "id": "6g8srS8T_ZMQ",
    "outputId": "8cf96e2e-5ed8-4080-953f-6e23cf70d4ab",
    "papermill": {
     "duration": 0.22454,
     "end_time": "2021-05-03T03:03:28.756279",
     "exception": false,
     "start_time": "2021-05-03T03:03:28.531739",
     "status": "completed"
    },
    "tags": []
   },
   "outputs": [
    {
     "data": {
      "text/plain": [
       "<Axes: xlabel='Car Purchase Amount', ylabel='Count'>"
      ]
     },
     "execution_count": 75,
     "metadata": {},
     "output_type": "execute_result"
    },
    {
     "data": {
      "image/png": "[encoded data removed]",
      "text/plain": [
       "<Figure size 640x480 with 1 Axes>"
      ]
     },
     "metadata": {},
     "output_type": "display_data"
    }
   ],
   "source": [
    "sns.histplot(data=males,x='Car Purchase Amount')"
   ]
  },
  {
   "cell_type": "code",
   "execution_count": 76,
   "id": "speaking-dance",
   "metadata": {
    "id": "PLpFHwOF_onp",
    "outputId": "d3d41f03-c664-474a-8f99-84fcaff8d36c",
    "papermill": {
     "duration": 0.216509,
     "end_time": "2021-05-03T03:03:29.002652",
     "exception": false,
     "start_time": "2021-05-03T03:03:28.786143",
     "status": "completed"
    },
    "tags": []
   },
   "outputs": [
    {
     "data": {
      "text/plain": [
       "<Axes: xlabel='Car Purchase Amount', ylabel='Count'>"
      ]
     },
     "execution_count": 76,
     "metadata": {},
     "output_type": "execute_result"
    },
    {
     "data": {
      "image/png": "[encoded data removed]",
      "text/plain": [
       "<Figure size 640x480 with 1 Axes>"
      ]
     },
     "metadata": {},
     "output_type": "display_data"
    }
   ],
   "source": [
    "query = males.loc[males['Credit Card Debt'] >= 10000]\n",
    "sns.histplot(data=query,x='Car Purchase Amount')"
   ]
  },
  {
   "cell_type": "code",
   "execution_count": 77,
   "id": "refined-milwaukee",
   "metadata": {
    "id": "60CfCtF7_1Xa",
    "outputId": "c23ae5ed-bfc6-448a-a01a-cb553c978138",
    "papermill": {
     "duration": 0.221461,
     "end_time": "2021-05-03T03:03:29.255240",
     "exception": false,
     "start_time": "2021-05-03T03:03:29.033779",
     "status": "completed"
    },
    "tags": []
   },
   "outputs": [
    {
     "data": {
      "text/plain": [
       "<Axes: xlabel='Car Purchase Amount', ylabel='Count'>"
      ]
     },
     "execution_count": 77,
     "metadata": {},
     "output_type": "execute_result"
    },
    {
     "data": {
      "image/png": "[encoded data removed]",
      "text/plain": [
       "<Figure size 640x480 with 1 Axes>"
      ]
     },
     "metadata": {},
     "output_type": "display_data"
    }
   ],
   "source": [
    "query = males.loc[males['Credit Card Debt'] < 10000]\n",
    "sns.histplot(data=query,x='Car Purchase Amount')"
   ]
  },
  {
   "cell_type": "code",
   "execution_count": 78,
   "id": "explicit-excuse",
   "metadata": {
    "id": "MlCd96RZ_8SY",
    "outputId": "d1a77816-a534-4caa-fcbd-bb52cd96d1c0",
    "papermill": {
     "duration": 0.06759,
     "end_time": "2021-05-03T03:03:29.355071",
     "exception": false,
     "start_time": "2021-05-03T03:03:29.287481",
     "status": "completed"
    },
    "tags": []
   },
   "outputs": [
    {
     "data": {
      "text/html": [
       "<div>\n",
       "<style scoped>\n",
       "    .dataframe tbody tr th:only-of-type {\n",
       "        vertical-align: middle;\n",
       "    }\n",
       "\n",
       "    .dataframe tbody tr th {\n",
       "        vertical-align: top;\n",
       "    }\n",
       "\n",
       "    .dataframe thead th {\n",
       "        text-align: right;\n",
       "    }\n",
       "</style>\n",
       "<table border=\"1\" class=\"dataframe\">\n",
       "  <thead>\n",
       "    <tr style=\"text-align: right;\">\n",
       "      <th></th>\n",
       "      <th>Gender</th>\n",
       "      <th>Age</th>\n",
       "      <th>Annual Salary</th>\n",
       "      <th>Credit Card Debt</th>\n",
       "      <th>Net Worth</th>\n",
       "      <th>Car Purchase Amount</th>\n",
       "    </tr>\n",
       "  </thead>\n",
       "  <tbody>\n",
       "    <tr>\n",
       "      <th>count</th>\n",
       "      <td>464.000000</td>\n",
       "      <td>464.000000</td>\n",
       "      <td>464.000000</td>\n",
       "      <td>464.000000</td>\n",
       "      <td>464.000000</td>\n",
       "      <td>464.000000</td>\n",
       "    </tr>\n",
       "    <tr>\n",
       "      <th>mean</th>\n",
       "      <td>0.506466</td>\n",
       "      <td>47.390086</td>\n",
       "      <td>62163.724160</td>\n",
       "      <td>9637.634930</td>\n",
       "      <td>431126.232342</td>\n",
       "      <td>45201.835259</td>\n",
       "    </tr>\n",
       "    <tr>\n",
       "      <th>std</th>\n",
       "      <td>0.500498</td>\n",
       "      <td>7.005150</td>\n",
       "      <td>11527.264564</td>\n",
       "      <td>3523.373066</td>\n",
       "      <td>175796.184631</td>\n",
       "      <td>10209.747300</td>\n",
       "    </tr>\n",
       "    <tr>\n",
       "      <th>min</th>\n",
       "      <td>0.000000</td>\n",
       "      <td>35.000000</td>\n",
       "      <td>32697.981610</td>\n",
       "      <td>594.804949</td>\n",
       "      <td>20000.000000</td>\n",
       "      <td>12536.938420</td>\n",
       "    </tr>\n",
       "    <tr>\n",
       "      <th>25%</th>\n",
       "      <td>0.000000</td>\n",
       "      <td>42.000000</td>\n",
       "      <td>54360.967178</td>\n",
       "      <td>7333.950747</td>\n",
       "      <td>298175.611625</td>\n",
       "      <td>38535.451070</td>\n",
       "    </tr>\n",
       "    <tr>\n",
       "      <th>50%</th>\n",
       "      <td>1.000000</td>\n",
       "      <td>47.000000</td>\n",
       "      <td>62959.365235</td>\n",
       "      <td>9670.271017</td>\n",
       "      <td>420820.523300</td>\n",
       "      <td>44791.548270</td>\n",
       "    </tr>\n",
       "    <tr>\n",
       "      <th>75%</th>\n",
       "      <td>1.000000</td>\n",
       "      <td>52.000000</td>\n",
       "      <td>70066.840198</td>\n",
       "      <td>11904.003002</td>\n",
       "      <td>558576.784850</td>\n",
       "      <td>51926.976583</td>\n",
       "    </tr>\n",
       "    <tr>\n",
       "      <th>max</th>\n",
       "      <td>1.000000</td>\n",
       "      <td>70.000000</td>\n",
       "      <td>100000.000000</td>\n",
       "      <td>20000.000000</td>\n",
       "      <td>1000000.000000</td>\n",
       "      <td>80000.000000</td>\n",
       "    </tr>\n",
       "  </tbody>\n",
       "</table>\n",
       "</div>"
      ],
      "text/plain": [
       "           Gender         Age  Annual Salary  Credit Card Debt  \\\n",
       "count  464.000000  464.000000     464.000000        464.000000   \n",
       "mean     0.506466   47.390086   62163.724160       9637.634930   \n",
       "std      0.500498    7.005150   11527.264564       3523.373066   \n",
       "min      0.000000   35.000000   32697.981610        594.804949   \n",
       "25%      0.000000   42.000000   54360.967178       7333.950747   \n",
       "50%      1.000000   47.000000   62959.365235       9670.271017   \n",
       "75%      1.000000   52.000000   70066.840198      11904.003002   \n",
       "max      1.000000   70.000000  100000.000000      20000.000000   \n",
       "\n",
       "            Net Worth  Car Purchase Amount  \n",
       "count      464.000000           464.000000  \n",
       "mean    431126.232342         45201.835259  \n",
       "std     175796.184631         10209.747300  \n",
       "min      20000.000000         12536.938420  \n",
       "25%     298175.611625         38535.451070  \n",
       "50%     420820.523300         44791.548270  \n",
       "75%     558576.784850         51926.976583  \n",
       "max    1000000.000000         80000.000000  "
      ]
     },
     "execution_count": 78,
     "metadata": {},
     "output_type": "execute_result"
    }
   ],
   "source": [
    "query = data.loc[data['Age'] >= 35]\n",
    "query.describe()"
   ]
  },
  {
   "cell_type": "code",
   "execution_count": 79,
   "id": "educational-criterion",
   "metadata": {
    "id": "kAuGmhV3D0T-",
    "outputId": "49906f7d-dbce-4d69-d5c0-59b241153532",
    "papermill": {
     "duration": 0.184766,
     "end_time": "2021-05-03T03:03:29.572666",
     "exception": false,
     "start_time": "2021-05-03T03:03:29.387900",
     "status": "completed"
    },
    "tags": []
   },
   "outputs": [
    {
     "data": {
      "text/plain": [
       "(array([229.,   0.,   0.,   0.,   0.,   0.,   0.,   0.,   0., 235.]),\n",
       " array([0. , 0.1, 0.2, 0.3, 0.4, 0.5, 0.6, 0.7, 0.8, 0.9, 1. ]),\n",
       " <BarContainer object of 10 artists>)"
      ]
     },
     "execution_count": 79,
     "metadata": {},
     "output_type": "execute_result"
    },
    {
     "data": {
      "image/png": "[encoded data removed]",
      "text/plain": [
       "<Figure size 640x480 with 1 Axes>"
      ]
     },
     "metadata": {},
     "output_type": "display_data"
    }
   ],
   "source": [
    "plt.hist(query['Gender'])"
   ]
  },
  {
   "cell_type": "code",
   "execution_count": 80,
   "id": "sought-accent",
   "metadata": {
    "id": "owEmKpVeEBKo",
    "outputId": "a7f54e51-27cf-4368-e59c-15f4e2583ead",
    "papermill": {
     "duration": 0.532226,
     "end_time": "2021-05-03T03:03:30.139043",
     "exception": false,
     "start_time": "2021-05-03T03:03:29.606817",
     "status": "completed"
    },
    "tags": []
   },
   "outputs": [
    {
     "data": {
      "text/plain": [
       "<Axes: xlabel='Annual Salary', ylabel='Count'>"
      ]
     },
     "execution_count": 80,
     "metadata": {},
     "output_type": "execute_result"
    },
    {
     "data": {
      "image/png": "[encoded data removed]",
      "text/plain": [
       "<Figure size 800x800 with 2 Axes>"
      ]
     },
     "metadata": {},
     "output_type": "display_data"
    }
   ],
   "source": [
    "plt.figure(figsize=(8,8))\n",
    "plt.subplot(211)\n",
    "sns.histplot(data=query,x='Credit Card Debt')\n",
    "\n",
    "plt.subplot(212)\n",
    "sns.histplot(data=query,x='Annual Salary')"
   ]
  },
  {
   "cell_type": "code",
   "execution_count": 81,
   "id": "superior-pittsburgh",
   "metadata": {
    "id": "VHTEkE22EclA",
    "outputId": "c01dbffd-dcdf-40f7-d17c-a90ec2879499",
    "papermill": {
     "duration": 0.232359,
     "end_time": "2021-05-03T03:03:30.406974",
     "exception": false,
     "start_time": "2021-05-03T03:03:30.174615",
     "status": "completed"
    },
    "tags": []
   },
   "outputs": [
    {
     "data": {
      "text/plain": [
       "<Axes: xlabel='Car Purchase Amount', ylabel='Count'>"
      ]
     },
     "execution_count": 81,
     "metadata": {},
     "output_type": "execute_result"
    },
    {
     "data": {
      "image/png": "[encoded data removed]",
      "text/plain": [
       "<Figure size 640x480 with 1 Axes>"
      ]
     },
     "metadata": {},
     "output_type": "display_data"
    }
   ],
   "source": [
    "sns.histplot(data=males,x='Car Purchase Amount')"
   ]
  },
  {
   "cell_type": "code",
   "execution_count": 82,
   "id": "saving-houston",
   "metadata": {
    "id": "uYXl-ox2Ef2o",
    "papermill": {
     "duration": 0.5235,
     "end_time": "2021-05-03T03:03:30.967280",
     "exception": false,
     "start_time": "2021-05-03T03:03:30.443780",
     "status": "completed"
    },
    "tags": []
   },
   "outputs": [],
   "source": [
    "from sklearn.model_selection import train_test_split\n",
    "from sklearn.svm import SVR\n",
    "from sklearn.ensemble import RandomForestRegressor\n",
    "from sklearn.tree import DecisionTreeRegressor\n",
    "from sklearn.linear_model import LinearRegression"
   ]
  },
  {
   "cell_type": "code",
   "execution_count": 102,
   "id": "0ff37236-65ae-4328-a73c-b8c7d8289b20",
   "metadata": {},
   "outputs": [
    {
     "data": {
      "text/html": [
       "<div>\n",
       "<style scoped>\n",
       "    .dataframe tbody tr th:only-of-type {\n",
       "        vertical-align: middle;\n",
       "    }\n",
       "\n",
       "    .dataframe tbody tr th {\n",
       "        vertical-align: top;\n",
       "    }\n",
       "\n",
       "    .dataframe thead th {\n",
       "        text-align: right;\n",
       "    }\n",
       "</style>\n",
       "<table border=\"1\" class=\"dataframe\">\n",
       "  <thead>\n",
       "    <tr style=\"text-align: right;\">\n",
       "      <th></th>\n",
       "      <th>Customer Name</th>\n",
       "      <th>Customer e-mail</th>\n",
       "      <th>Country</th>\n",
       "      <th>Gender</th>\n",
       "      <th>Age</th>\n",
       "      <th>Annual Salary</th>\n",
       "      <th>Credit Card Debt</th>\n",
       "      <th>Net Worth</th>\n",
       "      <th>Car Purchase Amount</th>\n",
       "    </tr>\n",
       "  </thead>\n",
       "  <tbody>\n",
       "    <tr>\n",
       "      <th>0</th>\n",
       "      <td>Martina Avila</td>\n",
       "      <td>cubilia.Curae.Phasellus@quisaccumsanconvallis.edu</td>\n",
       "      <td>USA</td>\n",
       "      <td>0</td>\n",
       "      <td>42</td>\n",
       "      <td>62812.09301</td>\n",
       "      <td>11609.380910</td>\n",
       "      <td>238961.2505</td>\n",
       "      <td>35321.45877</td>\n",
       "    </tr>\n",
       "    <tr>\n",
       "      <th>1</th>\n",
       "      <td>Harlan Barnes</td>\n",
       "      <td>eu.dolor@diam.co.uk</td>\n",
       "      <td>USA</td>\n",
       "      <td>0</td>\n",
       "      <td>41</td>\n",
       "      <td>66646.89292</td>\n",
       "      <td>9572.957136</td>\n",
       "      <td>530973.9078</td>\n",
       "      <td>45115.52566</td>\n",
       "    </tr>\n",
       "    <tr>\n",
       "      <th>2</th>\n",
       "      <td>Naomi Rodriquez</td>\n",
       "      <td>vulputate.mauris.sagittis@ametconsectetueradip...</td>\n",
       "      <td>USA</td>\n",
       "      <td>1</td>\n",
       "      <td>43</td>\n",
       "      <td>53798.55112</td>\n",
       "      <td>11160.355060</td>\n",
       "      <td>638467.1773</td>\n",
       "      <td>42925.70921</td>\n",
       "    </tr>\n",
       "    <tr>\n",
       "      <th>3</th>\n",
       "      <td>Jade Cunningham</td>\n",
       "      <td>malesuada@dignissim.com</td>\n",
       "      <td>USA</td>\n",
       "      <td>1</td>\n",
       "      <td>58</td>\n",
       "      <td>79370.03798</td>\n",
       "      <td>14426.164850</td>\n",
       "      <td>548599.0524</td>\n",
       "      <td>67422.36313</td>\n",
       "    </tr>\n",
       "    <tr>\n",
       "      <th>4</th>\n",
       "      <td>Cedric Leach</td>\n",
       "      <td>felis.ullamcorper.viverra@egetmollislectus.net</td>\n",
       "      <td>USA</td>\n",
       "      <td>1</td>\n",
       "      <td>57</td>\n",
       "      <td>59729.15130</td>\n",
       "      <td>5358.712177</td>\n",
       "      <td>560304.0671</td>\n",
       "      <td>55915.46248</td>\n",
       "    </tr>\n",
       "    <tr>\n",
       "      <th>...</th>\n",
       "      <td>...</td>\n",
       "      <td>...</td>\n",
       "      <td>...</td>\n",
       "      <td>...</td>\n",
       "      <td>...</td>\n",
       "      <td>...</td>\n",
       "      <td>...</td>\n",
       "      <td>...</td>\n",
       "      <td>...</td>\n",
       "    </tr>\n",
       "    <tr>\n",
       "      <th>495</th>\n",
       "      <td>Walter</td>\n",
       "      <td>ligula@Cumsociis.ca</td>\n",
       "      <td>USA</td>\n",
       "      <td>0</td>\n",
       "      <td>41</td>\n",
       "      <td>71942.40291</td>\n",
       "      <td>6995.902524</td>\n",
       "      <td>541670.1016</td>\n",
       "      <td>48901.44342</td>\n",
       "    </tr>\n",
       "    <tr>\n",
       "      <th>496</th>\n",
       "      <td>Vanna</td>\n",
       "      <td>Cum.sociis.natoque@Sedmolestie.edu</td>\n",
       "      <td>USA</td>\n",
       "      <td>1</td>\n",
       "      <td>38</td>\n",
       "      <td>56039.49793</td>\n",
       "      <td>12301.456790</td>\n",
       "      <td>360419.0988</td>\n",
       "      <td>31491.41457</td>\n",
       "    </tr>\n",
       "    <tr>\n",
       "      <th>497</th>\n",
       "      <td>Pearl</td>\n",
       "      <td>penatibus.et@massanonante.com</td>\n",
       "      <td>USA</td>\n",
       "      <td>1</td>\n",
       "      <td>54</td>\n",
       "      <td>68888.77805</td>\n",
       "      <td>10611.606860</td>\n",
       "      <td>764531.3203</td>\n",
       "      <td>64147.28888</td>\n",
       "    </tr>\n",
       "    <tr>\n",
       "      <th>498</th>\n",
       "      <td>Nell</td>\n",
       "      <td>Quisque.varius@arcuVivamussit.net</td>\n",
       "      <td>USA</td>\n",
       "      <td>1</td>\n",
       "      <td>59</td>\n",
       "      <td>49811.99062</td>\n",
       "      <td>14013.034510</td>\n",
       "      <td>337826.6382</td>\n",
       "      <td>45442.15353</td>\n",
       "    </tr>\n",
       "    <tr>\n",
       "      <th>499</th>\n",
       "      <td>Marla</td>\n",
       "      <td>Camaron.marla@hotmail.com</td>\n",
       "      <td>USA</td>\n",
       "      <td>1</td>\n",
       "      <td>47</td>\n",
       "      <td>61370.67766</td>\n",
       "      <td>9391.341628</td>\n",
       "      <td>462946.4924</td>\n",
       "      <td>45107.22566</td>\n",
       "    </tr>\n",
       "  </tbody>\n",
       "</table>\n",
       "<p>500 rows × 9 columns</p>\n",
       "</div>"
      ],
      "text/plain": [
       "       Customer Name                                    Customer e-mail  \\\n",
       "0      Martina Avila  cubilia.Curae.Phasellus@quisaccumsanconvallis.edu   \n",
       "1      Harlan Barnes                                eu.dolor@diam.co.uk   \n",
       "2    Naomi Rodriquez  vulputate.mauris.sagittis@ametconsectetueradip...   \n",
       "3    Jade Cunningham                            malesuada@dignissim.com   \n",
       "4       Cedric Leach     felis.ullamcorper.viverra@egetmollislectus.net   \n",
       "..               ...                                                ...   \n",
       "495           Walter                                ligula@Cumsociis.ca   \n",
       "496            Vanna                 Cum.sociis.natoque@Sedmolestie.edu   \n",
       "497            Pearl                      penatibus.et@massanonante.com   \n",
       "498             Nell                  Quisque.varius@arcuVivamussit.net   \n",
       "499            Marla                          Camaron.marla@hotmail.com   \n",
       "\n",
       "    Country  Gender  Age  Annual Salary  Credit Card Debt    Net Worth  \\\n",
       "0       USA       0   42    62812.09301      11609.380910  238961.2505   \n",
       "1       USA       0   41    66646.89292       9572.957136  530973.9078   \n",
       "2       USA       1   43    53798.55112      11160.355060  638467.1773   \n",
       "3       USA       1   58    79370.03798      14426.164850  548599.0524   \n",
       "4       USA       1   57    59729.15130       5358.712177  560304.0671   \n",
       "..      ...     ...  ...            ...               ...          ...   \n",
       "495     USA       0   41    71942.40291       6995.902524  541670.1016   \n",
       "496     USA       1   38    56039.49793      12301.456790  360419.0988   \n",
       "497     USA       1   54    68888.77805      10611.606860  764531.3203   \n",
       "498     USA       1   59    49811.99062      14013.034510  337826.6382   \n",
       "499     USA       1   47    61370.67766       9391.341628  462946.4924   \n",
       "\n",
       "     Car Purchase Amount  \n",
       "0            35321.45877  \n",
       "1            45115.52566  \n",
       "2            42925.70921  \n",
       "3            67422.36313  \n",
       "4            55915.46248  \n",
       "..                   ...  \n",
       "495          48901.44342  \n",
       "496          31491.41457  \n",
       "497          64147.28888  \n",
       "498          45442.15353  \n",
       "499          45107.22566  \n",
       "\n",
       "[500 rows x 9 columns]"
      ]
     },
     "execution_count": 102,
     "metadata": {},
     "output_type": "execute_result"
    }
   ],
   "source": [
    "data"
   ]
  },
  {
   "cell_type": "code",
   "execution_count": 83,
   "id": "wired-spain",
   "metadata": {
    "id": "jdlh_slzFXdK",
    "papermill": {
     "duration": 0.046922,
     "end_time": "2021-05-03T03:03:31.051656",
     "exception": false,
     "start_time": "2021-05-03T03:03:31.004734",
     "status": "completed"
    },
    "tags": []
   },
   "outputs": [],
   "source": [
    "features = data[['Gender','Age','Annual Salary','Credit Card Debt','Net Worth']]\n",
    "# features = data[list(features)]\n",
    "label = data['Car Purchase Amount']"
   ]
  },
  {
   "cell_type": "code",
   "execution_count": 101,
   "id": "8f470973-efdb-4449-8fd0-72144f2539a6",
   "metadata": {},
   "outputs": [
    {
     "data": {
      "text/html": [
       "<div>\n",
       "<style scoped>\n",
       "    .dataframe tbody tr th:only-of-type {\n",
       "        vertical-align: middle;\n",
       "    }\n",
       "\n",
       "    .dataframe tbody tr th {\n",
       "        vertical-align: top;\n",
       "    }\n",
       "\n",
       "    .dataframe thead th {\n",
       "        text-align: right;\n",
       "    }\n",
       "</style>\n",
       "<table border=\"1\" class=\"dataframe\">\n",
       "  <thead>\n",
       "    <tr style=\"text-align: right;\">\n",
       "      <th></th>\n",
       "      <th>Gender</th>\n",
       "      <th>Age</th>\n",
       "      <th>Annual Salary</th>\n",
       "      <th>Credit Card Debt</th>\n",
       "      <th>Net Worth</th>\n",
       "    </tr>\n",
       "  </thead>\n",
       "  <tbody>\n",
       "    <tr>\n",
       "      <th>0</th>\n",
       "      <td>0</td>\n",
       "      <td>42</td>\n",
       "      <td>62812.09301</td>\n",
       "      <td>11609.380910</td>\n",
       "      <td>238961.2505</td>\n",
       "    </tr>\n",
       "    <tr>\n",
       "      <th>1</th>\n",
       "      <td>0</td>\n",
       "      <td>41</td>\n",
       "      <td>66646.89292</td>\n",
       "      <td>9572.957136</td>\n",
       "      <td>530973.9078</td>\n",
       "    </tr>\n",
       "    <tr>\n",
       "      <th>2</th>\n",
       "      <td>1</td>\n",
       "      <td>43</td>\n",
       "      <td>53798.55112</td>\n",
       "      <td>11160.355060</td>\n",
       "      <td>638467.1773</td>\n",
       "    </tr>\n",
       "    <tr>\n",
       "      <th>3</th>\n",
       "      <td>1</td>\n",
       "      <td>58</td>\n",
       "      <td>79370.03798</td>\n",
       "      <td>14426.164850</td>\n",
       "      <td>548599.0524</td>\n",
       "    </tr>\n",
       "    <tr>\n",
       "      <th>4</th>\n",
       "      <td>1</td>\n",
       "      <td>57</td>\n",
       "      <td>59729.15130</td>\n",
       "      <td>5358.712177</td>\n",
       "      <td>560304.0671</td>\n",
       "    </tr>\n",
       "    <tr>\n",
       "      <th>...</th>\n",
       "      <td>...</td>\n",
       "      <td>...</td>\n",
       "      <td>...</td>\n",
       "      <td>...</td>\n",
       "      <td>...</td>\n",
       "    </tr>\n",
       "    <tr>\n",
       "      <th>495</th>\n",
       "      <td>0</td>\n",
       "      <td>41</td>\n",
       "      <td>71942.40291</td>\n",
       "      <td>6995.902524</td>\n",
       "      <td>541670.1016</td>\n",
       "    </tr>\n",
       "    <tr>\n",
       "      <th>496</th>\n",
       "      <td>1</td>\n",
       "      <td>38</td>\n",
       "      <td>56039.49793</td>\n",
       "      <td>12301.456790</td>\n",
       "      <td>360419.0988</td>\n",
       "    </tr>\n",
       "    <tr>\n",
       "      <th>497</th>\n",
       "      <td>1</td>\n",
       "      <td>54</td>\n",
       "      <td>68888.77805</td>\n",
       "      <td>10611.606860</td>\n",
       "      <td>764531.3203</td>\n",
       "    </tr>\n",
       "    <tr>\n",
       "      <th>498</th>\n",
       "      <td>1</td>\n",
       "      <td>59</td>\n",
       "      <td>49811.99062</td>\n",
       "      <td>14013.034510</td>\n",
       "      <td>337826.6382</td>\n",
       "    </tr>\n",
       "    <tr>\n",
       "      <th>499</th>\n",
       "      <td>1</td>\n",
       "      <td>47</td>\n",
       "      <td>61370.67766</td>\n",
       "      <td>9391.341628</td>\n",
       "      <td>462946.4924</td>\n",
       "    </tr>\n",
       "  </tbody>\n",
       "</table>\n",
       "<p>500 rows × 5 columns</p>\n",
       "</div>"
      ],
      "text/plain": [
       "     Gender  Age  Annual Salary  Credit Card Debt    Net Worth\n",
       "0         0   42    62812.09301      11609.380910  238961.2505\n",
       "1         0   41    66646.89292       9572.957136  530973.9078\n",
       "2         1   43    53798.55112      11160.355060  638467.1773\n",
       "3         1   58    79370.03798      14426.164850  548599.0524\n",
       "4         1   57    59729.15130       5358.712177  560304.0671\n",
       "..      ...  ...            ...               ...          ...\n",
       "495       0   41    71942.40291       6995.902524  541670.1016\n",
       "496       1   38    56039.49793      12301.456790  360419.0988\n",
       "497       1   54    68888.77805      10611.606860  764531.3203\n",
       "498       1   59    49811.99062      14013.034510  337826.6382\n",
       "499       1   47    61370.67766       9391.341628  462946.4924\n",
       "\n",
       "[500 rows x 5 columns]"
      ]
     },
     "execution_count": 101,
     "metadata": {},
     "output_type": "execute_result"
    }
   ],
   "source": [
    "features"
   ]
  },
  {
   "cell_type": "code",
   "execution_count": 85,
   "id": "b2de6fc4-3715-4f92-85ee-3657b091f255",
   "metadata": {},
   "outputs": [
    {
     "name": "stdout",
     "output_type": "stream",
     "text": [
      "<class 'pandas.core.frame.DataFrame'>\n",
      "RangeIndex: 500 entries, 0 to 499\n",
      "Data columns (total 5 columns):\n",
      " #   Column            Non-Null Count  Dtype  \n",
      "---  ------            --------------  -----  \n",
      " 0   Gender            500 non-null    int64  \n",
      " 1   Age               500 non-null    int64  \n",
      " 2   Annual Salary     500 non-null    float64\n",
      " 3   Credit Card Debt  500 non-null    float64\n",
      " 4   Net Worth         500 non-null    float64\n",
      "dtypes: float64(3), int64(2)\n",
      "memory usage: 19.7 KB\n"
     ]
    }
   ],
   "source": [
    "features.info()"
   ]
  },
  {
   "cell_type": "code",
   "execution_count": 86,
   "id": "deluxe-ceremony",
   "metadata": {
    "id": "g3Ayjp1pFpyD",
    "papermill": {
     "duration": 0.048033,
     "end_time": "2021-05-03T03:03:31.137403",
     "exception": false,
     "start_time": "2021-05-03T03:03:31.089370",
     "status": "completed"
    },
    "tags": []
   },
   "outputs": [],
   "source": [
    "x_train,x_test,y_train,y_test = train_test_split(features,label,test_size=0.2,random_state=144)"
   ]
  },
  {
   "cell_type": "code",
   "execution_count": 87,
   "id": "present-transaction",
   "metadata": {
    "id": "UKZ0uxIIF0Qy",
    "outputId": "8affcce5-86b2-4867-c76d-60b12a52ecfd",
    "papermill": {
     "duration": 0.047885,
     "end_time": "2021-05-03T03:03:31.222483",
     "exception": false,
     "start_time": "2021-05-03T03:03:31.174598",
     "status": "completed"
    },
    "tags": []
   },
   "outputs": [
    {
     "name": "stdout",
     "output_type": "stream",
     "text": [
      "X train shape is:  (400, 5)\n",
      "Y train shape is:  (400,)\n",
      "X test shape is:  (100, 5)\n",
      "Y test shape is:  (100,)\n"
     ]
    }
   ],
   "source": [
    "print('X train shape is: ' , x_train.shape)\n",
    "print('Y train shape is: ' , y_train.shape)\n",
    "print('X test shape is: ' , x_test.shape)\n",
    "print('Y test shape is: ' , y_test.shape)"
   ]
  },
  {
   "cell_type": "code",
   "execution_count": 88,
   "id": "living-diagnosis",
   "metadata": {
    "id": "A0MFPt4RGEf1",
    "outputId": "88a4785a-1478-43ea-96c1-7c36194bb4ea",
    "papermill": {
     "duration": 23.274281,
     "end_time": "2021-05-03T03:03:54.534764",
     "exception": false,
     "start_time": "2021-05-03T03:03:31.260483",
     "status": "completed"
    },
    "tags": []
   },
   "outputs": [
    {
     "name": "stdout",
     "output_type": "stream",
     "text": [
      "0.614353965288261\n"
     ]
    }
   ],
   "source": [
    "svc = SVR(kernel='linear',C=.5)\n",
    "svc.fit(x_train,y_train)\n",
    "print(svc.score(x_test,y_test))"
   ]
  },
  {
   "cell_type": "code",
   "execution_count": 89,
   "id": "chicken-thing",
   "metadata": {
    "id": "BDZJQUF3IWwo",
    "outputId": "41681636-7079-465f-92f7-da9d6ef70e45",
    "papermill": {
     "duration": 0.290694,
     "end_time": "2021-05-03T03:03:54.863325",
     "exception": false,
     "start_time": "2021-05-03T03:03:54.572631",
     "status": "completed"
    },
    "tags": []
   },
   "outputs": [
    {
     "name": "stdout",
     "output_type": "stream",
     "text": [
      "0.9203332256769063\n"
     ]
    }
   ],
   "source": [
    "forest = RandomForestRegressor()\n",
    "forest.fit(x_train,y_train)\n",
    "print(forest.score(x_test,y_test))"
   ]
  },
  {
   "cell_type": "code",
   "execution_count": 91,
   "id": "designed-puzzle",
   "metadata": {
    "id": "ePMuYqXXIqRk",
    "outputId": "2cd6aada-9371-4050-d2ee-345169d18d52",
    "papermill": {
     "duration": 0.060382,
     "end_time": "2021-05-03T03:03:54.962078",
     "exception": false,
     "start_time": "2021-05-03T03:03:54.901696",
     "status": "completed"
    },
    "tags": []
   },
   "outputs": [],
   "source": [
    "# tree = DecisionTreeRegressor(criterion='mae',max_depth=20)\n",
    "# tree.fit(x_train,y_train)\n",
    "# print(tree.score(x_test,y_test))"
   ]
  },
  {
   "cell_type": "code",
   "execution_count": 92,
   "id": "ranking-agriculture",
   "metadata": {
    "id": "VDZDs5zlJ8Gw",
    "outputId": "af907131-7528-498a-e5f5-a478a58a356d",
    "papermill": {
     "duration": 0.071734,
     "end_time": "2021-05-03T03:03:55.072672",
     "exception": false,
     "start_time": "2021-05-03T03:03:55.000938",
     "status": "completed"
    },
    "tags": []
   },
   "outputs": [
    {
     "data": {
      "text/html": [
       "<style>#sk-container-id-3 {color: black;}#sk-container-id-3 pre{padding: 0;}#sk-container-id-3 div.sk-toggleable {background-color: white;}#sk-container-id-3 label.sk-toggleable__label {cursor: pointer;display: block;width: 100%;margin-bottom: 0;padding: 0.3em;box-sizing: border-box;text-align: center;}#sk-container-id-3 label.sk-toggleable__label-arrow:before {content: \"▸\";float: left;margin-right: 0.25em;color: #696969;}#sk-container-id-3 label.sk-toggleable__label-arrow:hover:before {color: black;}#sk-container-id-3 div.sk-estimator:hover label.sk-toggleable__label-arrow:before {color: black;}#sk-container-id-3 div.sk-toggleable__content {max-height: 0;max-width: 0;overflow: hidden;text-align: left;background-color: #f0f8ff;}#sk-container-id-3 div.sk-toggleable__content pre {margin: 0.2em;color: black;border-radius: 0.25em;background-color: #f0f8ff;}#sk-container-id-3 input.sk-toggleable__control:checked~div.sk-toggleable__content {max-height: 200px;max-width: 100%;overflow: auto;}#sk-container-id-3 input.sk-toggleable__control:checked~label.sk-toggleable__label-arrow:before {content: \"▾\";}#sk-container-id-3 div.sk-estimator input.sk-toggleable__control:checked~label.sk-toggleable__label {background-color: #d4ebff;}#sk-container-id-3 div.sk-label input.sk-toggleable__control:checked~label.sk-toggleable__label {background-color: #d4ebff;}#sk-container-id-3 input.sk-hidden--visually {border: 0;clip: rect(1px 1px 1px 1px);clip: rect(1px, 1px, 1px, 1px);height: 1px;margin: -1px;overflow: hidden;padding: 0;position: absolute;width: 1px;}#sk-container-id-3 div.sk-estimator {font-family: monospace;background-color: #f0f8ff;border: 1px dotted black;border-radius: 0.25em;box-sizing: border-box;margin-bottom: 0.5em;}#sk-container-id-3 div.sk-estimator:hover {background-color: #d4ebff;}#sk-container-id-3 div.sk-parallel-item::after {content: \"\";width: 100%;border-bottom: 1px solid gray;flex-grow: 1;}#sk-container-id-3 div.sk-label:hover label.sk-toggleable__label {background-color: #d4ebff;}#sk-container-id-3 div.sk-serial::before {content: \"\";position: absolute;border-left: 1px solid gray;box-sizing: border-box;top: 0;bottom: 0;left: 50%;z-index: 0;}#sk-container-id-3 div.sk-serial {display: flex;flex-direction: column;align-items: center;background-color: white;padding-right: 0.2em;padding-left: 0.2em;position: relative;}#sk-container-id-3 div.sk-item {position: relative;z-index: 1;}#sk-container-id-3 div.sk-parallel {display: flex;align-items: stretch;justify-content: center;background-color: white;position: relative;}#sk-container-id-3 div.sk-item::before, #sk-container-id-3 div.sk-parallel-item::before {content: \"\";position: absolute;border-left: 1px solid gray;box-sizing: border-box;top: 0;bottom: 0;left: 50%;z-index: -1;}#sk-container-id-3 div.sk-parallel-item {display: flex;flex-direction: column;z-index: 1;position: relative;background-color: white;}#sk-container-id-3 div.sk-parallel-item:first-child::after {align-self: flex-end;width: 50%;}#sk-container-id-3 div.sk-parallel-item:last-child::after {align-self: flex-start;width: 50%;}#sk-container-id-3 div.sk-parallel-item:only-child::after {width: 0;}#sk-container-id-3 div.sk-dashed-wrapped {border: 1px dashed gray;margin: 0 0.4em 0.5em 0.4em;box-sizing: border-box;padding-bottom: 0.4em;background-color: white;}#sk-container-id-3 div.sk-label label {font-family: monospace;font-weight: bold;display: inline-block;line-height: 1.2em;}#sk-container-id-3 div.sk-label-container {text-align: center;}#sk-container-id-3 div.sk-container {/* jupyter's `normalize.less` sets `[hidden] { display: none; }` but bootstrap.min.css set `[hidden] { display: none !important; }` so we also need the `!important` here to be able to override the default hidden behavior on the sphinx rendered scikit-learn.org. See: https://github.com/scikit-learn/scikit-learn/issues/21755 */display: inline-block !important;position: relative;}#sk-container-id-3 div.sk-text-repr-fallback {display: none;}</style><div id=\"sk-container-id-3\" class=\"sk-top-container\"><div class=\"sk-text-repr-fallback\"><pre>LinearRegression()</pre><b>In a Jupyter environment, please rerun this cell to show the HTML representation or trust the notebook. <br />On GitHub, the HTML representation is unable to render, please try loading this page with nbviewer.org.</b></div><div class=\"sk-container\" hidden><div class=\"sk-item\"><div class=\"sk-estimator sk-toggleable\"><input class=\"sk-toggleable__control sk-hidden--visually\" id=\"sk-estimator-id-3\" type=\"checkbox\" checked><label for=\"sk-estimator-id-3\" class=\"sk-toggleable__label sk-toggleable__label-arrow\">LinearRegression</label><div class=\"sk-toggleable__content\"><pre>LinearRegression()</pre></div></div></div></div></div>"
      ],
      "text/plain": [
       "LinearRegression()"
      ]
     },
     "execution_count": 92,
     "metadata": {},
     "output_type": "execute_result"
    }
   ],
   "source": [
    "reg = LinearRegression()\n",
    "reg.fit(x_train,y_train)\n",
    "# print(reg.score(x_test,y_test))"
   ]
  },
  {
   "cell_type": "code",
   "execution_count": 99,
   "id": "9af9df81-af0d-49e5-8186-021a63462e77",
   "metadata": {},
   "outputs": [
    {
     "data": {
      "text/html": [
       "<div>\n",
       "<style scoped>\n",
       "    .dataframe tbody tr th:only-of-type {\n",
       "        vertical-align: middle;\n",
       "    }\n",
       "\n",
       "    .dataframe tbody tr th {\n",
       "        vertical-align: top;\n",
       "    }\n",
       "\n",
       "    .dataframe thead th {\n",
       "        text-align: right;\n",
       "    }\n",
       "</style>\n",
       "<table border=\"1\" class=\"dataframe\">\n",
       "  <thead>\n",
       "    <tr style=\"text-align: right;\">\n",
       "      <th></th>\n",
       "      <th>Gender</th>\n",
       "      <th>Age</th>\n",
       "      <th>Annual Salary</th>\n",
       "      <th>Credit Card Debt</th>\n",
       "      <th>Net Worth</th>\n",
       "    </tr>\n",
       "  </thead>\n",
       "  <tbody>\n",
       "    <tr>\n",
       "      <th>82</th>\n",
       "      <td>1</td>\n",
       "      <td>40</td>\n",
       "      <td>48567.07462</td>\n",
       "      <td>9724.031647</td>\n",
       "      <td>407401.3776</td>\n",
       "    </tr>\n",
       "    <tr>\n",
       "      <th>11</th>\n",
       "      <td>1</td>\n",
       "      <td>53</td>\n",
       "      <td>55421.65733</td>\n",
       "      <td>10014.969290</td>\n",
       "      <td>293862.5123</td>\n",
       "    </tr>\n",
       "    <tr>\n",
       "      <th>132</th>\n",
       "      <td>0</td>\n",
       "      <td>45</td>\n",
       "      <td>63729.12568</td>\n",
       "      <td>12507.197360</td>\n",
       "      <td>271430.0543</td>\n",
       "    </tr>\n",
       "    <tr>\n",
       "      <th>88</th>\n",
       "      <td>1</td>\n",
       "      <td>58</td>\n",
       "      <td>58065.25694</td>\n",
       "      <td>4204.920492</td>\n",
       "      <td>388498.5102</td>\n",
       "    </tr>\n",
       "    <tr>\n",
       "      <th>375</th>\n",
       "      <td>1</td>\n",
       "      <td>47</td>\n",
       "      <td>59205.89035</td>\n",
       "      <td>2689.317953</td>\n",
       "      <td>856287.1522</td>\n",
       "    </tr>\n",
       "    <tr>\n",
       "      <th>...</th>\n",
       "      <td>...</td>\n",
       "      <td>...</td>\n",
       "      <td>...</td>\n",
       "      <td>...</td>\n",
       "      <td>...</td>\n",
       "    </tr>\n",
       "    <tr>\n",
       "      <th>134</th>\n",
       "      <td>0</td>\n",
       "      <td>43</td>\n",
       "      <td>51419.01644</td>\n",
       "      <td>9026.061543</td>\n",
       "      <td>362564.3460</td>\n",
       "    </tr>\n",
       "    <tr>\n",
       "      <th>142</th>\n",
       "      <td>0</td>\n",
       "      <td>51</td>\n",
       "      <td>63869.64928</td>\n",
       "      <td>12860.658240</td>\n",
       "      <td>260269.0963</td>\n",
       "    </tr>\n",
       "    <tr>\n",
       "      <th>104</th>\n",
       "      <td>0</td>\n",
       "      <td>48</td>\n",
       "      <td>63975.06090</td>\n",
       "      <td>10614.854490</td>\n",
       "      <td>891439.8761</td>\n",
       "    </tr>\n",
       "    <tr>\n",
       "      <th>394</th>\n",
       "      <td>0</td>\n",
       "      <td>61</td>\n",
       "      <td>61824.87980</td>\n",
       "      <td>11211.995020</td>\n",
       "      <td>660897.0146</td>\n",
       "    </tr>\n",
       "    <tr>\n",
       "      <th>344</th>\n",
       "      <td>1</td>\n",
       "      <td>43</td>\n",
       "      <td>52664.71719</td>\n",
       "      <td>14435.743050</td>\n",
       "      <td>411932.8191</td>\n",
       "    </tr>\n",
       "  </tbody>\n",
       "</table>\n",
       "<p>100 rows × 5 columns</p>\n",
       "</div>"
      ],
      "text/plain": [
       "     Gender  Age  Annual Salary  Credit Card Debt    Net Worth\n",
       "82        1   40    48567.07462       9724.031647  407401.3776\n",
       "11        1   53    55421.65733      10014.969290  293862.5123\n",
       "132       0   45    63729.12568      12507.197360  271430.0543\n",
       "88        1   58    58065.25694       4204.920492  388498.5102\n",
       "375       1   47    59205.89035       2689.317953  856287.1522\n",
       "..      ...  ...            ...               ...          ...\n",
       "134       0   43    51419.01644       9026.061543  362564.3460\n",
       "142       0   51    63869.64928      12860.658240  260269.0963\n",
       "104       0   48    63975.06090      10614.854490  891439.8761\n",
       "394       0   61    61824.87980      11211.995020  660897.0146\n",
       "344       1   43    52664.71719      14435.743050  411932.8191\n",
       "\n",
       "[100 rows x 5 columns]"
      ]
     },
     "execution_count": 99,
     "metadata": {},
     "output_type": "execute_result"
    }
   ],
   "source": [
    "x_test"
   ]
  },
  {
   "cell_type": "code",
   "execution_count": 98,
   "id": "7ee8f380-738f-451c-b619-320842344d60",
   "metadata": {},
   "outputs": [
    {
     "ename": "ValueError",
     "evalue": "Expected 2D array, got 1D array instead:\narray=[30394.82494 42288.81046 39766.64804 50937.93844 55700.83389 46937.17422\n 33261.00057 29425.83001 41451.71843 43855.06077 56457.74038 47984.12043\n 53489.46214 51355.7106  38705.65839 41575.34739 20653.21409 44432.71747\n 41679.7929  80000.      57303.87131 59416.18101 46188.83514 31249.98803\n 41425.00116 52150.41786 70878.29664 37093.92033 39975.43302 53655.53859\n 53848.7555  19525.29827 46012.10616 39810.34817 63868.94051 46412.47781\n 42011.19965 47805.25605 38674.66038 47483.85316 37364.23474 46710.52519\n 36367.18452 49348.88394 43598.96993 53049.44567 55915.46248 17584.56963\n 39002.0771  65592.22012 43242.58224 42497.72862 48052.65091 41567.47033\n 62028.71192 44525.02085 45857.75365 42213.69644 56499.10202 66363.89316\n 43898.2733  38955.21919 46381.13111 22681.71667 41104.07108 50958.08115\n 25252.93221 60763.24731 58350.31809 36543.93642 12895.71468 47719.47741\n 30736.5798  42774.35579 27187.23914 51130.95379 42356.6895  38901.60925\n 54755.42038 38978.67458 39422.79389 54013.47595 49721.31082 46054.60253\n 42978.34626 51730.17434 50455.11935 54827.52403 45078.40193 37871.7082\n 36125.48846 51551.67997 57430.76903 59758.73247 31491.41457 33131.52734\n 44418.60955 60461.24268 63140.05082 35659.12237].\nReshape your data either using array.reshape(-1, 1) if your data has a single feature or array.reshape(1, -1) if it contains a single sample.",
     "output_type": "error",
     "traceback": [
      "\u001b[1;31m---------------------------------------------------------------------------\u001b[0m",
      "\u001b[1;31mValueError\u001b[0m                                Traceback (most recent call last)",
      "Cell \u001b[1;32mIn[98], line 3\u001b[0m\n\u001b[0;32m      1\u001b[0m \u001b[38;5;66;03m# import warnings\u001b[39;00m\n\u001b[0;32m      2\u001b[0m \u001b[38;5;66;03m# warnings.filterwarnings(\"ignore\")\u001b[39;00m\n\u001b[1;32m----> 3\u001b[0m y_pre \u001b[38;5;241m=\u001b[39m \u001b[43mreg\u001b[49m\u001b[38;5;241;43m.\u001b[39;49m\u001b[43mpredict\u001b[49m\u001b[43m(\u001b[49m\u001b[43my_test\u001b[49m\u001b[43m)\u001b[49m\n",
      "File \u001b[1;32mC:\\Python\\lib\\site-packages\\sklearn\\linear_model\\_base.py:386\u001b[0m, in \u001b[0;36mLinearModel.predict\u001b[1;34m(self, X)\u001b[0m\n\u001b[0;32m    372\u001b[0m \u001b[38;5;28;01mdef\u001b[39;00m \u001b[38;5;21mpredict\u001b[39m(\u001b[38;5;28mself\u001b[39m, X):\n\u001b[0;32m    373\u001b[0m \u001b[38;5;250m    \u001b[39m\u001b[38;5;124;03m\"\"\"\u001b[39;00m\n\u001b[0;32m    374\u001b[0m \u001b[38;5;124;03m    Predict using the linear model.\u001b[39;00m\n\u001b[0;32m    375\u001b[0m \n\u001b[1;32m   (...)\u001b[0m\n\u001b[0;32m    384\u001b[0m \u001b[38;5;124;03m        Returns predicted values.\u001b[39;00m\n\u001b[0;32m    385\u001b[0m \u001b[38;5;124;03m    \"\"\"\u001b[39;00m\n\u001b[1;32m--> 386\u001b[0m     \u001b[38;5;28;01mreturn\u001b[39;00m \u001b[38;5;28;43mself\u001b[39;49m\u001b[38;5;241;43m.\u001b[39;49m\u001b[43m_decision_function\u001b[49m\u001b[43m(\u001b[49m\u001b[43mX\u001b[49m\u001b[43m)\u001b[49m\n",
      "File \u001b[1;32mC:\\Python\\lib\\site-packages\\sklearn\\linear_model\\_base.py:369\u001b[0m, in \u001b[0;36mLinearModel._decision_function\u001b[1;34m(self, X)\u001b[0m\n\u001b[0;32m    366\u001b[0m \u001b[38;5;28;01mdef\u001b[39;00m \u001b[38;5;21m_decision_function\u001b[39m(\u001b[38;5;28mself\u001b[39m, X):\n\u001b[0;32m    367\u001b[0m     check_is_fitted(\u001b[38;5;28mself\u001b[39m)\n\u001b[1;32m--> 369\u001b[0m     X \u001b[38;5;241m=\u001b[39m \u001b[38;5;28;43mself\u001b[39;49m\u001b[38;5;241;43m.\u001b[39;49m\u001b[43m_validate_data\u001b[49m\u001b[43m(\u001b[49m\u001b[43mX\u001b[49m\u001b[43m,\u001b[49m\u001b[43m \u001b[49m\u001b[43maccept_sparse\u001b[49m\u001b[38;5;241;43m=\u001b[39;49m\u001b[43m[\u001b[49m\u001b[38;5;124;43m\"\u001b[39;49m\u001b[38;5;124;43mcsr\u001b[39;49m\u001b[38;5;124;43m\"\u001b[39;49m\u001b[43m,\u001b[49m\u001b[43m \u001b[49m\u001b[38;5;124;43m\"\u001b[39;49m\u001b[38;5;124;43mcsc\u001b[39;49m\u001b[38;5;124;43m\"\u001b[39;49m\u001b[43m,\u001b[49m\u001b[43m \u001b[49m\u001b[38;5;124;43m\"\u001b[39;49m\u001b[38;5;124;43mcoo\u001b[39;49m\u001b[38;5;124;43m\"\u001b[39;49m\u001b[43m]\u001b[49m\u001b[43m,\u001b[49m\u001b[43m \u001b[49m\u001b[43mreset\u001b[49m\u001b[38;5;241;43m=\u001b[39;49m\u001b[38;5;28;43;01mFalse\u001b[39;49;00m\u001b[43m)\u001b[49m\n\u001b[0;32m    370\u001b[0m     \u001b[38;5;28;01mreturn\u001b[39;00m safe_sparse_dot(X, \u001b[38;5;28mself\u001b[39m\u001b[38;5;241m.\u001b[39mcoef_\u001b[38;5;241m.\u001b[39mT, dense_output\u001b[38;5;241m=\u001b[39m\u001b[38;5;28;01mTrue\u001b[39;00m) \u001b[38;5;241m+\u001b[39m \u001b[38;5;28mself\u001b[39m\u001b[38;5;241m.\u001b[39mintercept_\n",
      "File \u001b[1;32mC:\\Python\\lib\\site-packages\\sklearn\\base.py:604\u001b[0m, in \u001b[0;36mBaseEstimator._validate_data\u001b[1;34m(self, X, y, reset, validate_separately, cast_to_ndarray, **check_params)\u001b[0m\n\u001b[0;32m    602\u001b[0m         out \u001b[38;5;241m=\u001b[39m X, y\n\u001b[0;32m    603\u001b[0m \u001b[38;5;28;01melif\u001b[39;00m \u001b[38;5;129;01mnot\u001b[39;00m no_val_X \u001b[38;5;129;01mand\u001b[39;00m no_val_y:\n\u001b[1;32m--> 604\u001b[0m     out \u001b[38;5;241m=\u001b[39m check_array(X, input_name\u001b[38;5;241m=\u001b[39m\u001b[38;5;124m\"\u001b[39m\u001b[38;5;124mX\u001b[39m\u001b[38;5;124m\"\u001b[39m, \u001b[38;5;241m*\u001b[39m\u001b[38;5;241m*\u001b[39mcheck_params)\n\u001b[0;32m    605\u001b[0m \u001b[38;5;28;01melif\u001b[39;00m no_val_X \u001b[38;5;129;01mand\u001b[39;00m \u001b[38;5;129;01mnot\u001b[39;00m no_val_y:\n\u001b[0;32m    606\u001b[0m     out \u001b[38;5;241m=\u001b[39m _check_y(y, \u001b[38;5;241m*\u001b[39m\u001b[38;5;241m*\u001b[39mcheck_params)\n",
      "File \u001b[1;32mC:\\Python\\lib\\site-packages\\sklearn\\utils\\validation.py:940\u001b[0m, in \u001b[0;36mcheck_array\u001b[1;34m(array, accept_sparse, accept_large_sparse, dtype, order, copy, force_all_finite, ensure_2d, allow_nd, ensure_min_samples, ensure_min_features, estimator, input_name)\u001b[0m\n\u001b[0;32m    938\u001b[0m     \u001b[38;5;66;03m# If input is 1D raise error\u001b[39;00m\n\u001b[0;32m    939\u001b[0m     \u001b[38;5;28;01mif\u001b[39;00m array\u001b[38;5;241m.\u001b[39mndim \u001b[38;5;241m==\u001b[39m \u001b[38;5;241m1\u001b[39m:\n\u001b[1;32m--> 940\u001b[0m         \u001b[38;5;28;01mraise\u001b[39;00m \u001b[38;5;167;01mValueError\u001b[39;00m(\n\u001b[0;32m    941\u001b[0m             \u001b[38;5;124m\"\u001b[39m\u001b[38;5;124mExpected 2D array, got 1D array instead:\u001b[39m\u001b[38;5;130;01m\\n\u001b[39;00m\u001b[38;5;124marray=\u001b[39m\u001b[38;5;132;01m{}\u001b[39;00m\u001b[38;5;124m.\u001b[39m\u001b[38;5;130;01m\\n\u001b[39;00m\u001b[38;5;124m\"\u001b[39m\n\u001b[0;32m    942\u001b[0m             \u001b[38;5;124m\"\u001b[39m\u001b[38;5;124mReshape your data either using array.reshape(-1, 1) if \u001b[39m\u001b[38;5;124m\"\u001b[39m\n\u001b[0;32m    943\u001b[0m             \u001b[38;5;124m\"\u001b[39m\u001b[38;5;124myour data has a single feature or array.reshape(1, -1) \u001b[39m\u001b[38;5;124m\"\u001b[39m\n\u001b[0;32m    944\u001b[0m             \u001b[38;5;124m\"\u001b[39m\u001b[38;5;124mif it contains a single sample.\u001b[39m\u001b[38;5;124m\"\u001b[39m\u001b[38;5;241m.\u001b[39mformat(array)\n\u001b[0;32m    945\u001b[0m         )\n\u001b[0;32m    947\u001b[0m \u001b[38;5;28;01mif\u001b[39;00m dtype_numeric \u001b[38;5;129;01mand\u001b[39;00m \u001b[38;5;28mhasattr\u001b[39m(array\u001b[38;5;241m.\u001b[39mdtype, \u001b[38;5;124m\"\u001b[39m\u001b[38;5;124mkind\u001b[39m\u001b[38;5;124m\"\u001b[39m) \u001b[38;5;129;01mand\u001b[39;00m array\u001b[38;5;241m.\u001b[39mdtype\u001b[38;5;241m.\u001b[39mkind \u001b[38;5;129;01min\u001b[39;00m \u001b[38;5;124m\"\u001b[39m\u001b[38;5;124mUSV\u001b[39m\u001b[38;5;124m\"\u001b[39m:\n\u001b[0;32m    948\u001b[0m     \u001b[38;5;28;01mraise\u001b[39;00m \u001b[38;5;167;01mValueError\u001b[39;00m(\n\u001b[0;32m    949\u001b[0m         \u001b[38;5;124m\"\u001b[39m\u001b[38;5;124mdtype=\u001b[39m\u001b[38;5;124m'\u001b[39m\u001b[38;5;124mnumeric\u001b[39m\u001b[38;5;124m'\u001b[39m\u001b[38;5;124m is not compatible with arrays of bytes/strings.\u001b[39m\u001b[38;5;124m\"\u001b[39m\n\u001b[0;32m    950\u001b[0m         \u001b[38;5;124m\"\u001b[39m\u001b[38;5;124mConvert your data to numeric values explicitly instead.\u001b[39m\u001b[38;5;124m\"\u001b[39m\n\u001b[0;32m    951\u001b[0m     )\n",
      "\u001b[1;31mValueError\u001b[0m: Expected 2D array, got 1D array instead:\narray=[30394.82494 42288.81046 39766.64804 50937.93844 55700.83389 46937.17422\n 33261.00057 29425.83001 41451.71843 43855.06077 56457.74038 47984.12043\n 53489.46214 51355.7106  38705.65839 41575.34739 20653.21409 44432.71747\n 41679.7929  80000.      57303.87131 59416.18101 46188.83514 31249.98803\n 41425.00116 52150.41786 70878.29664 37093.92033 39975.43302 53655.53859\n 53848.7555  19525.29827 46012.10616 39810.34817 63868.94051 46412.47781\n 42011.19965 47805.25605 38674.66038 47483.85316 37364.23474 46710.52519\n 36367.18452 49348.88394 43598.96993 53049.44567 55915.46248 17584.56963\n 39002.0771  65592.22012 43242.58224 42497.72862 48052.65091 41567.47033\n 62028.71192 44525.02085 45857.75365 42213.69644 56499.10202 66363.89316\n 43898.2733  38955.21919 46381.13111 22681.71667 41104.07108 50958.08115\n 25252.93221 60763.24731 58350.31809 36543.93642 12895.71468 47719.47741\n 30736.5798  42774.35579 27187.23914 51130.95379 42356.6895  38901.60925\n 54755.42038 38978.67458 39422.79389 54013.47595 49721.31082 46054.60253\n 42978.34626 51730.17434 50455.11935 54827.52403 45078.40193 37871.7082\n 36125.48846 51551.67997 57430.76903 59758.73247 31491.41457 33131.52734\n 44418.60955 60461.24268 63140.05082 35659.12237].\nReshape your data either using array.reshape(-1, 1) if your data has a single feature or array.reshape(1, -1) if it contains a single sample."
     ]
    }
   ],
   "source": [
    "# import warnings\n",
    "# warnings.filterwarnings(\"ignore\")\n",
    "y_pre = reg.predict(y_test)"
   ]
  },
  {
   "cell_type": "code",
   "execution_count": 95,
   "id": "552c8cfc-b5ee-4f79-9291-70e68182096b",
   "metadata": {},
   "outputs": [],
   "source": [
    "from sklearn.metrics import r2_score"
   ]
  },
  {
   "cell_type": "code",
   "execution_count": 97,
   "id": "ce71fca9-3cb1-4f92-9b4f-ebf1b5452fbb",
   "metadata": {},
   "outputs": [
    {
     "ename": "NameError",
     "evalue": "name 'y_pre' is not defined",
     "output_type": "error",
     "traceback": [
      "\u001b[1;31m---------------------------------------------------------------------------\u001b[0m",
      "\u001b[1;31mNameError\u001b[0m                                 Traceback (most recent call last)",
      "Cell \u001b[1;32mIn[97], line 1\u001b[0m\n\u001b[1;32m----> 1\u001b[0m r2_score(y_test,\u001b[43my_pre\u001b[49m)\n",
      "\u001b[1;31mNameError\u001b[0m: name 'y_pre' is not defined"
     ]
    }
   ],
   "source": [
    "r2_score(y_test,y_pre)"
   ]
  },
  {
   "cell_type": "code",
   "execution_count": null,
   "id": "fad854bd-bb7a-4b79-bc8b-e77bfba0f4b7",
   "metadata": {},
   "outputs": [],
   "source": []
  }
 ],
 "metadata": {
  "kernelspec": {
   "display_name": "Python 3 (ipykernel)",
   "language": "python",
   "name": "python3"
  },
  "language_info": {
   "codemirror_mode": {
    "name": "ipython",
    "version": 3
   },
   "file_extension": ".py",
   "mimetype": "text/x-python",
   "name": "python",
   "nbconvert_exporter": "python",
   "pygments_lexer": "ipython3",
   "version": "3.10.5"
  },
  "papermill": {
   "default_parameters": {},
   "duration": 36.596015,
   "end_time": "2021-05-03T03:03:55.822722",
   "environment_variables": {},
   "exception": null,
   "input_path": "__notebook__.ipynb",
   "output_path": "__notebook__.ipynb",
   "parameters": {},
   "start_time": "2021-05-03T03:03:19.226707",
   "version": "2.3.2"
  }
 },
 "nbformat": 4,
 "nbformat_minor": 5
}
